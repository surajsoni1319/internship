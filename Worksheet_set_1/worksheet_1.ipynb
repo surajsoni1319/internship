{
 "cells": [
  {
   "cell_type": "code",
   "execution_count": null,
   "id": "a502b625",
   "metadata": {},
   "outputs": [],
   "source": [
    "#Write a python program to find the factorial of a number."
   ]
  },
  {
   "cell_type": "code",
   "execution_count": 5,
   "id": "4880ffe4",
   "metadata": {},
   "outputs": [
    {
     "name": "stdout",
     "output_type": "stream",
     "text": [
      "Enter a number: -8\n",
      " Factorial of negative numbers does'nt exist\n"
     ]
    }
   ],
   "source": [
    "num = int(input(\"Enter a number: \"))    \n",
    "fact = 1    \n",
    "if num < 0:    \n",
    "    print(\" Factorial of negative numbers do noat exist\")    \n",
    "elif num == 0:    \n",
    "    print(\"The factorial of 0 is 1\")    \n",
    "else:    \n",
    "    for i in range(1,num + 1):    \n",
    "        fact = fact*i    \n",
    "    print(\"The factorial of\",num,\"is\",fact)"
   ]
  },
  {
   "cell_type": "code",
   "execution_count": null,
   "id": "9b213785",
   "metadata": {},
   "outputs": [],
   "source": [
    "#Write a python program to find whether a number is prime or composite."
   ]
  },
  {
   "cell_type": "code",
   "execution_count": 10,
   "id": "69bc3ab9",
   "metadata": {},
   "outputs": [
    {
     "name": "stdout",
     "output_type": "stream",
     "text": [
      "Enter any positive number:5\n",
      "5 is prime number\n"
     ]
    }
   ],
   "source": [
    "num= int(input(\"Enter any positive number:\"))\n",
    "if(num ==0 or num == 1):\n",
    "    printf(num,\"Number is neither prime nor composite\")\n",
    "elif num>1 :\n",
    "    for i in range(2,num):\n",
    "        if(num%i == 0):\n",
    "            print(num,\"is a composite number\")\n",
    "            break\n",
    "    else:\n",
    "        print(num,\"is prime number\")"
   ]
  },
  {
   "cell_type": "code",
   "execution_count": null,
   "id": "c666fae1",
   "metadata": {},
   "outputs": [],
   "source": [
    "#Write a python program to check whether a given string is palindrome or not."
   ]
  },
  {
   "cell_type": "code",
   "execution_count": 26,
   "id": "3aa8782f",
   "metadata": {},
   "outputs": [
    {
     "name": "stdout",
     "output_type": "stream",
     "text": [
      "Enter a string:qazxxzaq\n",
      "string is a palindrome\n"
     ]
    }
   ],
   "source": [
    "a=input(\"Enter a string:\")\n",
    "if(a==a[::-1]):\n",
    "      print(\"string is a palindrome\")\n",
    "else:\n",
    "      print(\"Not a palindrome\")"
   ]
  },
  {
   "cell_type": "code",
   "execution_count": null,
   "id": "12835fcc",
   "metadata": {},
   "outputs": [],
   "source": [
    "#Write a Python program to get the third side of right-angled triangle from two given sides."
   ]
  },
  {
   "cell_type": "code",
   "execution_count": 28,
   "id": "1e4c3488",
   "metadata": {},
   "outputs": [
    {
     "name": "stdout",
     "output_type": "stream",
     "text": [
      "Input base and hight:\n",
      "base: 4\n",
      "hight: 3\n",
      "The length of the hypotenuse is: 5.0\n"
     ]
    }
   ],
   "source": [
    "from math import sqrt\n",
    "print(\"Input base and hight:\")\n",
    "base = float(input(\"base: \"))\n",
    "hight = float(input(\"hight: \"))\n",
    "c = sqrt(base**2 + hight**2)\n",
    "print(\"The length of the hypotenuse is:\", c )"
   ]
  },
  {
   "cell_type": "code",
   "execution_count": null,
   "id": "9b3ff563",
   "metadata": {},
   "outputs": [],
   "source": [
    "#Write a python program to print the frequency of each of the characters present in a given string."
   ]
  },
  {
   "cell_type": "code",
   "execution_count": 2,
   "id": "336e9433",
   "metadata": {},
   "outputs": [
    {
     "name": "stdout",
     "output_type": "stream",
     "text": [
      "Enter any string: awswaswedsewsdewedfredfderf\n",
      "{'a': 2, 'w': 5, 's': 4, 'e': 6, 'd': 5, 'f': 3, 'r': 2}\n"
     ]
    }
   ],
   "source": [
    "str = input (\"Enter any string: \")\n",
    "flip = dict()\n",
    "for dt in str:\n",
    "    if dt in flip:\n",
    "        flip[dt] = flip[dt] + 1\n",
    "    else:\n",
    "        flip[dt] = 1\n",
    "print(flip)"
   ]
  },
  {
   "cell_type": "code",
   "execution_count": null,
   "id": "07197e9e",
   "metadata": {},
   "outputs": [],
   "source": []
  }
 ],
 "metadata": {
  "kernelspec": {
   "display_name": "Python 3 (ipykernel)",
   "language": "python",
   "name": "python3"
  },
  "language_info": {
   "codemirror_mode": {
    "name": "ipython",
    "version": 3
   },
   "file_extension": ".py",
   "mimetype": "text/x-python",
   "name": "python",
   "nbconvert_exporter": "python",
   "pygments_lexer": "ipython3",
   "version": "3.9.7"
  }
 },
 "nbformat": 4,
 "nbformat_minor": 5
}
